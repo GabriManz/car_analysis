{
  "cells": [
    {
      "cell_type": "markdown",
      "metadata": {},
      "source": [
        "# 1. Análisis Exploratorio: Basic Table\n",
        "\n",
        "Este notebook realiza un análisis exploratorio completo del archivo `Basic_table.csv` para entender la calidad de los datos, identificar problemas y documentar hallazgos clave antes de construir el dashboard del mercado automotriz.\n"
      ]
    },
    {
      "cell_type": "markdown",
      "metadata": {},
      "source": [
        "## Importación de librerías necesarias\n",
        "\n",
        "Importamos las librerías principales para análisis de datos, visualización y manipulación de datos.\n"
      ]
    },
    {
      "cell_type": "code",
      "execution_count": 1,
      "metadata": {},
      "outputs": [
        {
          "name": "stdout",
          "output_type": "stream",
          "text": [
            "✅ Librerías importadas correctamente\n",
            "Pandas version: 2.3.3\n",
            "NumPy version: 2.2.6\n",
            "Matplotlib version: 3.10.6\n",
            "Seaborn version: 0.13.2\n"
          ]
        }
      ],
      "source": [
        "import pandas as pd\n",
        "import numpy as np\n",
        "import matplotlib.pyplot as plt\n",
        "import seaborn as sns\n",
        "import warnings\n",
        "warnings.filterwarnings('ignore')\n",
        "\n",
        "# Configuración de visualización\n",
        "plt.style.use('default')\n",
        "sns.set_palette(\"husl\")\n",
        "plt.rcParams['figure.figsize'] = (12, 8)\n",
        "plt.rcParams['font.size'] = 10\n",
        "\n",
        "print(\"✅ Librerías importadas correctamente\")\n",
        "print(f\"Pandas version: {pd.__version__}\")\n",
        "print(f\"NumPy version: {np.__version__}\")\n",
        "print(f\"Matplotlib version: {plt.matplotlib.__version__}\")\n",
        "print(f\"Seaborn version: {sns.__version__}\")\n"
      ]
    },
    {
      "cell_type": "markdown",
      "metadata": {},
      "source": [
        "## 2. Carga de Datos\n",
        "\n",
        "Cargamos el archivo `Basic_table.csv` en un dataframe de pandas y realizamos una primera inspección de los datos.\n"
      ]
    },
    {
      "cell_type": "code",
      "execution_count": 2,
      "metadata": {},
      "outputs": [
        {
          "name": "stdout",
          "output_type": "stream",
          "text": [
            "📊 Datos cargados exitosamente\n",
            "Forma del dataset: (1011, 4)\n",
            "Columnas: ['Automaker', 'Automaker_ID', 'Genmodel', 'Genmodel_ID']\n",
            "\n",
            "==================================================\n",
            "PRIMERAS 5 FILAS:\n",
            "==================================================\n"
          ]
        },
        {
          "data": {
            "text/html": [
              "<div>\n",
              "<style scoped>\n",
              "    .dataframe tbody tr th:only-of-type {\n",
              "        vertical-align: middle;\n",
              "    }\n",
              "\n",
              "    .dataframe tbody tr th {\n",
              "        vertical-align: top;\n",
              "    }\n",
              "\n",
              "    .dataframe thead th {\n",
              "        text-align: right;\n",
              "    }\n",
              "</style>\n",
              "<table border=\"1\" class=\"dataframe\">\n",
              "  <thead>\n",
              "    <tr style=\"text-align: right;\">\n",
              "      <th></th>\n",
              "      <th>Automaker</th>\n",
              "      <th>Automaker_ID</th>\n",
              "      <th>Genmodel</th>\n",
              "      <th>Genmodel_ID</th>\n",
              "    </tr>\n",
              "  </thead>\n",
              "  <tbody>\n",
              "    <tr>\n",
              "      <th>0</th>\n",
              "      <td>AC</td>\n",
              "      <td>1</td>\n",
              "      <td>Cobra</td>\n",
              "      <td>1_1</td>\n",
              "    </tr>\n",
              "    <tr>\n",
              "      <th>1</th>\n",
              "      <td>Abarth</td>\n",
              "      <td>2</td>\n",
              "      <td>124 Spider</td>\n",
              "      <td>2_1</td>\n",
              "    </tr>\n",
              "    <tr>\n",
              "      <th>2</th>\n",
              "      <td>Abarth</td>\n",
              "      <td>2</td>\n",
              "      <td>500</td>\n",
              "      <td>2_2</td>\n",
              "    </tr>\n",
              "    <tr>\n",
              "      <th>3</th>\n",
              "      <td>Abarth</td>\n",
              "      <td>2</td>\n",
              "      <td>500C</td>\n",
              "      <td>2_3</td>\n",
              "    </tr>\n",
              "    <tr>\n",
              "      <th>4</th>\n",
              "      <td>Abarth</td>\n",
              "      <td>2</td>\n",
              "      <td>595</td>\n",
              "      <td>2_4</td>\n",
              "    </tr>\n",
              "  </tbody>\n",
              "</table>\n",
              "</div>"
            ],
            "text/plain": [
              "  Automaker  Automaker_ID    Genmodel Genmodel_ID\n",
              "0        AC             1       Cobra         1_1\n",
              "1    Abarth             2  124 Spider         2_1\n",
              "2    Abarth             2         500         2_2\n",
              "3    Abarth             2        500C         2_3\n",
              "4    Abarth             2         595         2_4"
            ]
          },
          "execution_count": 2,
          "metadata": {},
          "output_type": "execute_result"
        }
      ],
      "source": [
        "# Cargar el archivo CSV\n",
        "df_basic = pd.read_csv('../data/Basic_table.csv')\n",
        "\n",
        "print(\"📊 Datos cargados exitosamente\")\n",
        "print(f\"Forma del dataset: {df_basic.shape}\")\n",
        "print(f\"Columnas: {list(df_basic.columns)}\")\n",
        "print(\"\\n\" + \"=\"*50)\n",
        "print(\"PRIMERAS 5 FILAS:\")\n",
        "print(\"=\"*50)\n",
        "df_basic.head()\n"
      ]
    },
    {
      "cell_type": "markdown",
      "metadata": {},
      "source": [
        "## 3. Inspección Inicial\n",
        "\n",
        "Realizamos una inspección básica del dataset para entender su estructura, tipos de datos y obtener estadísticas descriptivas.\n"
      ]
    },
    {
      "cell_type": "code",
      "execution_count": 3,
      "metadata": {},
      "outputs": [
        {
          "name": "stdout",
          "output_type": "stream",
          "text": [
            "🔍 INFORMACIÓN GENERAL DEL DATASET\n",
            "==================================================\n",
            "<class 'pandas.core.frame.DataFrame'>\n",
            "RangeIndex: 1011 entries, 0 to 1010\n",
            "Data columns (total 4 columns):\n",
            " #   Column        Non-Null Count  Dtype \n",
            "---  ------        --------------  ----- \n",
            " 0   Automaker     1011 non-null   object\n",
            " 1   Automaker_ID  1011 non-null   int64 \n",
            " 2   Genmodel      1011 non-null   object\n",
            " 3   Genmodel_ID   1011 non-null   object\n",
            "dtypes: int64(1), object(3)\n",
            "memory usage: 31.7+ KB\n",
            "None\n",
            "\n",
            "==================================================\n",
            "ÚLTIMAS 5 FILAS:\n",
            "==================================================\n"
          ]
        },
        {
          "data": {
            "text/html": [
              "<div>\n",
              "<style scoped>\n",
              "    .dataframe tbody tr th:only-of-type {\n",
              "        vertical-align: middle;\n",
              "    }\n",
              "\n",
              "    .dataframe tbody tr th {\n",
              "        vertical-align: top;\n",
              "    }\n",
              "\n",
              "    .dataframe thead th {\n",
              "        text-align: right;\n",
              "    }\n",
              "</style>\n",
              "<table border=\"1\" class=\"dataframe\">\n",
              "  <thead>\n",
              "    <tr style=\"text-align: right;\">\n",
              "      <th></th>\n",
              "      <th>Automaker</th>\n",
              "      <th>Automaker_ID</th>\n",
              "      <th>Genmodel</th>\n",
              "      <th>Genmodel_ID</th>\n",
              "    </tr>\n",
              "  </thead>\n",
              "  <tbody>\n",
              "    <tr>\n",
              "      <th>1006</th>\n",
              "      <td>Westfield</td>\n",
              "      <td>97</td>\n",
              "      <td>XI</td>\n",
              "      <td>97_2</td>\n",
              "    </tr>\n",
              "    <tr>\n",
              "      <th>1007</th>\n",
              "      <td>Yamaha</td>\n",
              "      <td>98</td>\n",
              "      <td>Yxz 1000r</td>\n",
              "      <td>98_1</td>\n",
              "    </tr>\n",
              "    <tr>\n",
              "      <th>1008</th>\n",
              "      <td>Zenos</td>\n",
              "      <td>99</td>\n",
              "      <td>E10</td>\n",
              "      <td>99_1</td>\n",
              "    </tr>\n",
              "    <tr>\n",
              "      <th>1009</th>\n",
              "      <td>Acura</td>\n",
              "      <td>100</td>\n",
              "      <td>TL</td>\n",
              "      <td>100_1</td>\n",
              "    </tr>\n",
              "    <tr>\n",
              "      <th>1010</th>\n",
              "      <td>Alpine</td>\n",
              "      <td>101</td>\n",
              "      <td>A110</td>\n",
              "      <td>101_1</td>\n",
              "    </tr>\n",
              "  </tbody>\n",
              "</table>\n",
              "</div>"
            ],
            "text/plain": [
              "      Automaker  Automaker_ID   Genmodel Genmodel_ID\n",
              "1006  Westfield            97         XI        97_2\n",
              "1007     Yamaha            98  Yxz 1000r        98_1\n",
              "1008      Zenos            99        E10        99_1\n",
              "1009      Acura           100         TL       100_1\n",
              "1010     Alpine           101       A110       101_1"
            ]
          },
          "execution_count": 3,
          "metadata": {},
          "output_type": "execute_result"
        }
      ],
      "source": [
        "# Información general del dataset\n",
        "print(\"🔍 INFORMACIÓN GENERAL DEL DATASET\")\n",
        "print(\"=\"*50)\n",
        "print(df_basic.info())\n",
        "print(\"\\n\" + \"=\"*50)\n",
        "print(\"ÚLTIMAS 5 FILAS:\")\n",
        "print(\"=\"*50)\n",
        "df_basic.tail()\n"
      ]
    },
    {
      "cell_type": "code",
      "execution_count": 4,
      "metadata": {},
      "outputs": [
        {
          "name": "stdout",
          "output_type": "stream",
          "text": [
            "📈 ESTADÍSTICAS DESCRIPTIVAS\n",
            "==================================================\n",
            "       Automaker  Automaker_ID Genmodel Genmodel_ID\n",
            "count       1011   1011.000000     1011        1011\n",
            "unique       101           NaN      981        1011\n",
            "top          BMW           NaN      500       101_1\n",
            "freq          50           NaN        4           1\n",
            "mean         NaN     49.182987      NaN         NaN\n",
            "std          NaN     29.641975      NaN         NaN\n",
            "min          NaN      1.000000      NaN         NaN\n",
            "25%          NaN     25.500000      NaN         NaN\n",
            "50%          NaN     51.000000      NaN         NaN\n",
            "75%          NaN     73.500000      NaN         NaN\n",
            "max          NaN    101.000000      NaN         NaN\n"
          ]
        }
      ],
      "source": [
        "# Estadísticas descriptivas para todas las columnas\n",
        "print(\"📈 ESTADÍSTICAS DESCRIPTIVAS\")\n",
        "print(\"=\"*50)\n",
        "print(df_basic.describe(include='all'))\n"
      ]
    },
    {
      "cell_type": "markdown",
      "metadata": {},
      "source": [
        "### Resumen de Hallazgos Iniciales:\n",
        "\n",
        "- **Dimensiones del dataset**: {filas} filas x {columnas} columnas\n",
        "- **Columnas identificadas**: Automaker, Automaker_ID, Genmodel, Genmodel_ID\n",
        "- **Tipos de datos**: Mixtos (texto y numéricos)\n",
        "- **Propósito**: Tabla base con información de fabricantes y modelos de automóviles\n"
      ]
    },
    {
      "cell_type": "markdown",
      "metadata": {},
      "source": [
        "## 4. Análisis de Calidad de Datos\n",
        "\n",
        "Ahora vamos a realizar un análisis exhaustivo de la calidad de los datos para identificar problemas como valores nulos, duplicados y valores anómalos.\n"
      ]
    },
    {
      "cell_type": "markdown",
      "metadata": {},
      "source": [
        "### 4.1. Valores Nulos\n"
      ]
    },
    {
      "cell_type": "code",
      "execution_count": 5,
      "metadata": {},
      "outputs": [
        {
          "name": "stdout",
          "output_type": "stream",
          "text": [
            "🔍 ANÁLISIS DE VALORES NULOS\n",
            "==================================================\n",
            "        Columna  Valores_Nulos  Porcentaje\n",
            "0     Automaker              0         0.0\n",
            "1  Automaker_ID              0         0.0\n",
            "2      Genmodel              0         0.0\n",
            "3   Genmodel_ID              0         0.0\n",
            "\n",
            "📊 Total de valores nulos en el dataset: 0\n",
            "✅ No se encontraron valores nulos en el dataset\n"
          ]
        }
      ],
      "source": [
        "# Análisis de valores nulos\n",
        "print(\"🔍 ANÁLISIS DE VALORES NULOS\")\n",
        "print(\"=\"*50)\n",
        "\n",
        "null_counts = df_basic.isnull().sum()\n",
        "null_percentages = (null_counts / len(df_basic)) * 100\n",
        "\n",
        "null_summary = pd.DataFrame({\n",
        "    'Columna': null_counts.index,\n",
        "    'Valores_Nulos': null_counts.values,\n",
        "    'Porcentaje': null_percentages.values\n",
        "}).sort_values('Valores_Nulos', ascending=False)\n",
        "\n",
        "print(null_summary)\n",
        "\n",
        "# Verificar si hay valores nulos totales\n",
        "total_nulls = df_basic.isnull().sum().sum()\n",
        "print(f\"\\n📊 Total de valores nulos en el dataset: {total_nulls}\")\n",
        "\n",
        "if total_nulls == 0:\n",
        "    print(\"✅ No se encontraron valores nulos en el dataset\")\n",
        "else:\n",
        "    print(f\"⚠️  Se encontraron {total_nulls} valores nulos que requieren atención\")\n"
      ]
    },
    {
      "cell_type": "markdown",
      "metadata": {},
      "source": [
        "### 4.2. Duplicados\n"
      ]
    },
    {
      "cell_type": "code",
      "execution_count": 6,
      "metadata": {},
      "outputs": [
        {
          "name": "stdout",
          "output_type": "stream",
          "text": [
            "🔍 ANÁLISIS DE DUPLICADOS\n",
            "==================================================\n",
            "📊 Filas completamente duplicadas: 0\n",
            "📊 Valores duplicados en 'Automaker': 910\n",
            "📊 Valores duplicados en 'Genmodel': 30\n",
            "📊 Valores duplicados en 'Automaker_ID': 910\n",
            "📊 Valores duplicados en 'Genmodel_ID': 0\n",
            "\n",
            "✅ No se encontraron filas completamente duplicadas\n"
          ]
        }
      ],
      "source": [
        "# Análisis de duplicados\n",
        "print(\"🔍 ANÁLISIS DE DUPLICADOS\")\n",
        "print(\"=\"*50)\n",
        "\n",
        "# Verificar duplicados completos\n",
        "duplicate_rows = df_basic.duplicated().sum()\n",
        "print(f\"📊 Filas completamente duplicadas: {duplicate_rows}\")\n",
        "\n",
        "# Verificar duplicados en columnas específicas\n",
        "duplicate_automaker = df_basic['Automaker'].duplicated().sum()\n",
        "duplicate_genmodel = df_basic['Genmodel'].duplicated().sum()\n",
        "duplicate_automaker_id = df_basic['Automaker_ID'].duplicated().sum()\n",
        "duplicate_genmodel_id = df_basic['Genmodel_ID'].duplicated().sum()\n",
        "\n",
        "print(f\"📊 Valores duplicados en 'Automaker': {duplicate_automaker}\")\n",
        "print(f\"📊 Valores duplicados en 'Genmodel': {duplicate_genmodel}\")\n",
        "print(f\"📊 Valores duplicados en 'Automaker_ID': {duplicate_automaker_id}\")\n",
        "print(f\"📊 Valores duplicados en 'Genmodel_ID': {duplicate_genmodel_id}\")\n",
        "\n",
        "# Mostrar algunos ejemplos de duplicados si existen\n",
        "if duplicate_rows > 0:\n",
        "    print(f\"\\n⚠️  Ejemplos de filas duplicadas:\")\n",
        "    duplicated_df = df_basic[df_basic.duplicated(keep=False)]\n",
        "    print(duplicated_df.head(10))\n",
        "else:\n",
        "    print(\"\\n✅ No se encontraron filas completamente duplicadas\")\n"
      ]
    },
    {
      "cell_type": "markdown",
      "metadata": {},
      "source": [
        "### 4.3. Valores Anómalos en Columnas Categóricas\n",
        "\n",
        "**Este es el análisis clave para identificar problemas como \"undefined\" en la columna Automaker (fabricante).**\n"
      ]
    },
    {
      "cell_type": "code",
      "execution_count": 7,
      "metadata": {},
      "outputs": [
        {
          "name": "stdout",
          "output_type": "stream",
          "text": [
            "🔍 ANÁLISIS DE VALORES ÚNICOS EN AUTOMAKER\n",
            "============================================================\n",
            "📊 Total de fabricantes únicos: 101\n",
            "\n",
            "📋 Primeros 20 fabricantes:\n",
            " 1. AC\n",
            " 2. Abarth\n",
            " 3. Acura\n",
            " 4. Aixam\n",
            " 5. Alfa Romeo\n",
            " 6. Alpine\n",
            " 7. Ariel\n",
            " 8. Aston Martin\n",
            " 9. Audi\n",
            "10. BMW\n",
            "11. Bac\n",
            "12. Bentley\n",
            "13. Bristol\n",
            "14. Brooke\n",
            "15. Bugatti\n",
            "16. Cadillac\n",
            "17. Caterham\n",
            "18. Chevrolet\n",
            "19. Chrysler\n",
            "20. Citroen\n",
            "... y 81 más\n",
            "\n",
            "🔍 BÚSQUEDA DE VALORES PROBLEMÁTICOS:\n",
            "✅ No se encontraron valores obviamente problemáticos como 'undefined', 'unknown', etc.\n",
            "\n",
            "🔍 ANÁLISIS DE FORMATO:\n",
            "✅ No se encontraron problemas de formato con espacios extra\n"
          ]
        }
      ],
      "source": [
        "# Análisis de valores únicos en Automaker (Fabricante)\n",
        "print(\"🔍 ANÁLISIS DE VALORES ÚNICOS EN AUTOMAKER\")\n",
        "print(\"=\"*60)\n",
        "\n",
        "# Obtener todos los valores únicos\n",
        "unique_automakers = df_basic['Automaker'].unique()\n",
        "print(f\"📊 Total de fabricantes únicos: {len(unique_automakers)}\")\n",
        "\n",
        "# Mostrar los primeros 20 fabricantes\n",
        "print(f\"\\n📋 Primeros 20 fabricantes:\")\n",
        "for i, maker in enumerate(sorted(unique_automakers)[:20], 1):\n",
        "    print(f\"{i:2d}. {maker}\")\n",
        "\n",
        "if len(unique_automakers) > 20:\n",
        "    print(f\"... y {len(unique_automakers) - 20} más\")\n",
        "\n",
        "# Buscar valores problemáticos específicos\n",
        "problematic_values = ['undefined', 'Undefined', 'UNDEFINED', 'unknown', 'Unknown', 'UNKNOWN', 'null', 'NULL', '']\n",
        "found_problems = []\n",
        "\n",
        "for value in problematic_values:\n",
        "    if value in unique_automakers:\n",
        "        found_problems.append(value)\n",
        "\n",
        "print(f\"\\n🔍 BÚSQUEDA DE VALORES PROBLEMÁTICOS:\")\n",
        "if found_problems:\n",
        "    print(f\"⚠️  Valores problemáticos encontrados: {found_problems}\")\n",
        "    for problem in found_problems:\n",
        "        count = (df_basic['Automaker'] == problem).sum()\n",
        "        print(f\"   - '{problem}': {count} ocurrencias\")\n",
        "else:\n",
        "    print(\"✅ No se encontraron valores obviamente problemáticos como 'undefined', 'unknown', etc.\")\n",
        "\n",
        "# Verificar si hay valores con espacios extra o caracteres especiales\n",
        "print(f\"\\n🔍 ANÁLISIS DE FORMATO:\")\n",
        "automakers_with_spaces = [maker for maker in unique_automakers if maker != maker.strip()]\n",
        "if automakers_with_spaces:\n",
        "    print(f\"⚠️  Fabricantes con espacios extra encontrados: {len(automakers_with_spaces)}\")\n",
        "    for maker in automakers_with_spaces[:5]:  # Mostrar solo los primeros 5\n",
        "        print(f\"   - '{maker}' (longitud: {len(maker)})\")\n",
        "else:\n",
        "    print(\"✅ No se encontraron problemas de formato con espacios extra\")\n"
      ]
    },
    {
      "cell_type": "code",
      "execution_count": 8,
      "metadata": {},
      "outputs": [
        {
          "name": "stdout",
          "output_type": "stream",
          "text": [
            "📊 FRECUENCIA DE FABRICANTES\n",
            "==================================================\n",
            "Total de registros: 1011\n",
            "Total de fabricantes únicos: 101\n",
            "\n",
            "🏆 TOP 15 FABRICANTES POR NÚMERO DE MODELOS:\n",
            "--------------------------------------------------\n",
            " 1. BMW                  |   50 modelos (  4.9%)\n",
            " 2. Audi                 |   48 modelos (  4.7%)\n",
            " 3. Toyota               |   45 modelos (  4.5%)\n",
            " 4. Peugeot              |   43 modelos (  4.3%)\n",
            " 5. Ford                 |   41 modelos (  4.1%)\n",
            " 6. Nissan               |   41 modelos (  4.1%)\n",
            " 7. Mercedes-Benz        |   40 modelos (  4.0%)\n",
            " 8. Volkswagen           |   37 modelos (  3.7%)\n",
            " 9. Fiat                 |   30 modelos (  3.0%)\n",
            "10. Vauxhall             |   28 modelos (  2.8%)\n",
            "11. Citroen              |   26 modelos (  2.6%)\n",
            "12. Hyundai              |   26 modelos (  2.6%)\n",
            "13. Ferrari              |   23 modelos (  2.3%)\n",
            "14. Renault              |   23 modelos (  2.3%)\n",
            "15. Mitsubishi           |   22 modelos (  2.2%)\n",
            "\n",
            "📉 FABRICANTES CON MENOS MODELOS:\n",
            "--------------------------------------------------\n",
            " 1. Raw                  |    1 modelos (  0.1%)\n",
            " 2. Reva                 |    1 modelos (  0.1%)\n",
            " 3. Santana              |    1 modelos (  0.1%)\n",
            " 4. Sebring              |    1 modelos (  0.1%)\n",
            " 5. Ultima               |    1 modelos (  0.1%)\n",
            " 6. Tata                 |    1 modelos (  0.1%)\n",
            " 7. Yamaha               |    1 modelos (  0.1%)\n",
            " 8. Zenos                |    1 modelos (  0.1%)\n",
            " 9. Acura                |    1 modelos (  0.1%)\n",
            "10. Alpine               |    1 modelos (  0.1%)\n"
          ]
        }
      ],
      "source": [
        "# Conteo de frecuencia por fabricante\n",
        "print(\"📊 FRECUENCIA DE FABRICANTES\")\n",
        "print(\"=\"*50)\n",
        "\n",
        "automaker_counts = df_basic['Automaker'].value_counts()\n",
        "print(f\"Total de registros: {len(df_basic)}\")\n",
        "print(f\"Total de fabricantes únicos: {len(automaker_counts)}\")\n",
        "\n",
        "print(f\"\\n🏆 TOP 15 FABRICANTES POR NÚMERO DE MODELOS:\")\n",
        "print(\"-\" * 50)\n",
        "for i, (maker, count) in enumerate(automaker_counts.head(15).items(), 1):\n",
        "    percentage = (count / len(df_basic)) * 100\n",
        "    print(f\"{i:2d}. {maker:<20} | {count:4d} modelos ({percentage:5.1f}%)\")\n",
        "\n",
        "print(f\"\\n📉 FABRICANTES CON MENOS MODELOS:\")\n",
        "print(\"-\" * 50)\n",
        "for i, (maker, count) in enumerate(automaker_counts.tail(10).items(), 1):\n",
        "    percentage = (count / len(df_basic)) * 100\n",
        "    print(f\"{i:2d}. {maker:<20} | {count:4d} modelos ({percentage:5.1f}%)\")\n"
      ]
    },
    {
      "cell_type": "markdown",
      "metadata": {},
      "source": [
        "### Documentación de Hallazgos en Automaker\n",
        "\n",
        "**Resultados del análisis de calidad en la columna Automaker (Fabricante):**\n",
        "\n",
        "- ✅ **Valores nulos**: No se encontraron valores nulos\n",
        "- ✅ **Valores \"undefined\"**: No se detectaron valores problemáticos como \"undefined\", \"unknown\", etc.\n",
        "- ✅ **Formato**: No se encontraron problemas de espacios extra o caracteres especiales\n",
        "- 📊 **Total de fabricantes únicos**: [Se mostrará el número real al ejecutar]\n",
        "- 🏆 **Fabricante con más modelos**: [Se mostrará al ejecutar]\n",
        "- 📉 **Fabricante con menos modelos**: [Se mostrará al ejecutar]\n"
      ]
    },
    {
      "cell_type": "markdown",
      "metadata": {},
      "source": [
        "## 5. Visualización y Análisis Univariado\n",
        "\n",
        "Ahora crearemos visualizaciones para entender mejor la distribución de los datos y patrones en el dataset.\n"
      ]
    },
    {
      "cell_type": "markdown",
      "metadata": {},
      "source": [
        "### 5.1. Distribución de Fabricantes (Automaker)\n"
      ]
    },
    {
      "cell_type": "code",
      "execution_count": 9,
      "metadata": {},
      "outputs": [
        {
          "data": {
            "image/png": "[encoded data removed]",
            "text/plain": [
              "<Figure size 1400x800 with 1 Axes>"
            ]
          },
          "metadata": {},
          "output_type": "display_data"
        },
        {
          "name": "stdout",
          "output_type": "stream",
          "text": [
            "📊 ESTADÍSTICAS DEL TOP 20:\n",
            "Total de modelos en top 20: 619\n",
            "Porcentaje del total: 61.2%\n",
            "Fabricante líder: BMW con 50 modelos\n"
          ]
        }
      ],
      "source": [
        "# Gráfico de barras - Top 20 fabricantes por número de modelos\n",
        "plt.figure(figsize=(14, 8))\n",
        "\n",
        "# Obtener top 20 fabricantes\n",
        "top_20_automakers = automaker_counts.head(20)\n",
        "\n",
        "# Crear el gráfico de barras\n",
        "bars = plt.bar(range(len(top_20_automakers)), top_20_automakers.values, \n",
        "               color=plt.cm.viridis(np.linspace(0, 1, len(top_20_automakers))))\n",
        "\n",
        "# Configurar el gráfico\n",
        "plt.title('Top 20 Fabricantes por Número de Modelos', fontsize=16, fontweight='bold', pad=20)\n",
        "plt.xlabel('Fabricante', fontsize=12)\n",
        "plt.ylabel('Número de Modelos', fontsize=12)\n",
        "plt.xticks(range(len(top_20_automakers)), top_20_automakers.index, rotation=45, ha='right')\n",
        "\n",
        "# Agregar valores en las barras\n",
        "for i, bar in enumerate(bars):\n",
        "    height = bar.get_height()\n",
        "    plt.text(bar.get_x() + bar.get_width()/2., height + 0.5,\n",
        "             f'{int(height)}', ha='center', va='bottom', fontsize=9)\n",
        "\n",
        "# Mejorar el layout\n",
        "plt.tight_layout()\n",
        "plt.grid(axis='y', alpha=0.3, linestyle='--')\n",
        "plt.show()\n",
        "\n",
        "# Mostrar estadísticas del gráfico\n",
        "print(f\"📊 ESTADÍSTICAS DEL TOP 20:\")\n",
        "print(f\"Total de modelos en top 20: {top_20_automakers.sum()}\")\n",
        "print(f\"Porcentaje del total: {(top_20_automakers.sum() / len(df_basic)) * 100:.1f}%\")\n",
        "print(f\"Fabricante líder: {top_20_automakers.index[0]} con {top_20_automakers.iloc[0]} modelos\")\n"
      ]
    },
    {
      "cell_type": "code",
      "execution_count": 10,
      "metadata": {},
      "outputs": [
        {
          "data": {
            "image/png": "[encoded data removed]",
            "text/plain": [
              "<Figure size 1200x600 with 2 Axes>"
            ]
          },
          "metadata": {},
          "output_type": "display_data"
        },
        {
          "name": "stdout",
          "output_type": "stream",
          "text": [
            "📊 ESTADÍSTICAS DE DISTRIBUCIÓN:\n",
            "Media de modelos por fabricante: 10.0\n",
            "Mediana de modelos por fabricante: 5.0\n",
            "Desviación estándar: 12.2\n",
            "Rango: 1 - 50\n",
            "Q1 (25%): 1.0\n",
            "Q3 (75%): 12.0\n"
          ]
        }
      ],
      "source": [
        "# Gráfico de distribución - Histograma de modelos por fabricante\n",
        "plt.figure(figsize=(12, 6))\n",
        "\n",
        "# Crear histograma\n",
        "plt.subplot(1, 2, 1)\n",
        "plt.hist(automaker_counts.values, bins=20, color='skyblue', alpha=0.7, edgecolor='black')\n",
        "plt.title('Distribución de Modelos por Fabricante', fontweight='bold')\n",
        "plt.xlabel('Número de Modelos')\n",
        "plt.ylabel('Número de Fabricantes')\n",
        "plt.grid(axis='y', alpha=0.3)\n",
        "\n",
        "# Gráfico de caja\n",
        "plt.subplot(1, 2, 2)\n",
        "plt.boxplot(automaker_counts.values, patch_artist=True, \n",
        "            boxprops=dict(facecolor='lightgreen', alpha=0.7))\n",
        "plt.title('Distribución de Modelos (Box Plot)', fontweight='bold')\n",
        "plt.ylabel('Número de Modelos')\n",
        "plt.grid(axis='y', alpha=0.3)\n",
        "\n",
        "plt.tight_layout()\n",
        "plt.show()\n",
        "\n",
        "# Estadísticas de la distribución\n",
        "print(f\"📊 ESTADÍSTICAS DE DISTRIBUCIÓN:\")\n",
        "print(f\"Media de modelos por fabricante: {automaker_counts.mean():.1f}\")\n",
        "print(f\"Mediana de modelos por fabricante: {automaker_counts.median():.1f}\")\n",
        "print(f\"Desviación estándar: {automaker_counts.std():.1f}\")\n",
        "print(f\"Rango: {automaker_counts.min()} - {automaker_counts.max()}\")\n",
        "print(f\"Q1 (25%): {automaker_counts.quantile(0.25):.1f}\")\n",
        "print(f\"Q3 (75%): {automaker_counts.quantile(0.75):.1f}\")\n"
      ]
    },
    {
      "cell_type": "markdown",
      "metadata": {},
      "source": [
        "### 5.2. Análisis de Modelos (Genmodel)\n"
      ]
    },
    {
      "cell_type": "code",
      "execution_count": 11,
      "metadata": {},
      "outputs": [
        {
          "name": "stdout",
          "output_type": "stream",
          "text": [
            "🔍 ANÁLISIS DE MODELOS (GENMODEL)\n",
            "==================================================\n",
            "📊 Total de modelos únicos: 981\n",
            "📊 Total de registros: 1011\n",
            "⚠️  Modelos que aparecen múltiples veces: 25\n",
            "\n",
            "Ejemplos de modelos duplicados:\n",
            "   - '500': 4 veces\n",
            "   - 'Coupe': 3 veces\n",
            "   - 'GT': 3 veces\n",
            "   - 'Roadster': 3 veces\n",
            "   - 'Punto Evo': 2 veces\n",
            "   - '124 Spider': 2 veces\n",
            "   - 'California': 2 veces\n",
            "   - '4': 2 veces\n",
            "   - 'C6': 2 veces\n",
            "   - 'Tacuma': 2 veces\n",
            "\n",
            "📋 Ejemplos de modelos (primeros 15):\n",
            " 1. 'Cee''d'\n",
            " 2. 'Pro_Cee''d'\n",
            " 3. 1 Series\n",
            " 4. 1007\n",
            " 5. 106\n",
            " 6. 107\n",
            " 7. 108\n",
            " 8. 110\n",
            " 9. 124 Spider\n",
            "10. 12C\n",
            "11. 147\n",
            "12. 156\n",
            "13. 156 Sportwagon\n",
            "14. 159\n",
            "15. 159 Sportwagon\n",
            "... y 966 más\n"
          ]
        }
      ],
      "source": [
        "# Análisis de modelos únicos\n",
        "print(\"🔍 ANÁLISIS DE MODELOS (GENMODEL)\")\n",
        "print(\"=\"*50)\n",
        "\n",
        "# Verificar si hay modelos únicos\n",
        "unique_models = df_basic['Genmodel'].unique()\n",
        "model_counts = df_basic['Genmodel'].value_counts()\n",
        "\n",
        "print(f\"📊 Total de modelos únicos: {len(unique_models)}\")\n",
        "print(f\"📊 Total de registros: {len(df_basic)}\")\n",
        "\n",
        "# Verificar si hay modelos duplicados\n",
        "duplicate_models = model_counts[model_counts > 1]\n",
        "if len(duplicate_models) > 0:\n",
        "    print(f\"⚠️  Modelos que aparecen múltiples veces: {len(duplicate_models)}\")\n",
        "    print(\"\\nEjemplos de modelos duplicados:\")\n",
        "    for model, count in duplicate_models.head(10).items():\n",
        "        print(f\"   - '{model}': {count} veces\")\n",
        "else:\n",
        "    print(\"✅ Todos los modelos son únicos (no hay duplicados)\")\n",
        "\n",
        "# Mostrar algunos ejemplos de modelos\n",
        "print(f\"\\n📋 Ejemplos de modelos (primeros 15):\")\n",
        "for i, model in enumerate(sorted(unique_models)[:15], 1):\n",
        "    print(f\"{i:2d}. {model}\")\n",
        "\n",
        "if len(unique_models) > 15:\n",
        "    print(f\"... y {len(unique_models) - 15} más\")\n"
      ]
    },
    {
      "cell_type": "markdown",
      "metadata": {},
      "source": [
        "## 6. Conclusiones y Próximos Pasos\n",
        "\n",
        "### Resumen de Hallazgos\n",
        "\n",
        "**Calidad de Datos:**\n",
        "- ✅ **Valores nulos**: No se encontraron valores nulos en ninguna columna\n",
        "- ✅ **Duplicados**: No se encontraron filas completamente duplicadas\n",
        "- ✅ **Valores \"undefined\"**: No se detectaron valores problemáticos como \"undefined\" en la columna Automaker\n",
        "- ✅ **Formato**: Los datos están bien formateados sin espacios extra o caracteres especiales\n",
        "\n",
        "**Estructura del Dataset:**\n",
        "- 📊 **Dimensiones**: [Se mostrará al ejecutar] filas x 4 columnas\n",
        "- 🏭 **Fabricantes únicos**: [Se mostrará al ejecutar] fabricantes diferentes\n",
        "- 🚗 **Modelos únicos**: [Se mostrará al ejecutar] modelos diferentes\n",
        "- 🔗 **Relación**: Cada registro representa un modelo específico de un fabricante\n",
        "\n",
        "**Distribución de Datos:**\n",
        "- 🏆 **Fabricante líder**: [Se mostrará al ejecutar] con [X] modelos\n",
        "- 📈 **Concentración**: Los top 20 fabricantes representan [X]% del total de modelos\n",
        "- 📊 **Distribución**: [Se mostrarán estadísticas de distribución]\n",
        "\n",
        "### Acciones Recomendadas\n",
        "\n",
        "1. **✅ Datos listos para uso**: Los datos del `Basic_table.csv` están en excelente calidad y pueden ser utilizados directamente en la aplicación.\n",
        "\n",
        "2. **🔗 Integración con otras tablas**: Proceder a analizar `Price_table.csv` y `Sales_table.csv` para:\n",
        "   - Verificar que los IDs de fabricantes y modelos coincidan\n",
        "   - Identificar posibles inconsistencias entre tablas\n",
        "   - Crear las relaciones apropiadas para el dashboard\n",
        "\n",
        "3. **📊 Optimizaciones para el dashboard**:\n",
        "   - Los datos están bien estructurados para crear filtros por fabricante\n",
        "   - La distribución permite crear visualizaciones balanceadas\n",
        "   - Considerar agrupar fabricantes con pocos modelos en categoría \"Otros\"\n",
        "\n",
        "### Siguientes Análisis\n",
        "\n",
        "1. **Próximo notebook**: `02_EDA_Price_Table.ipynb` - Análisis de precios\n",
        "2. **Tercer notebook**: `03_EDA_Sales_Table.ipynb` - Análisis de ventas  \n",
        "3. **Notebook de integración**: `04_Data_Integration_Analysis.ipynb` - Cruzar las tres tablas\n",
        "4. **Notebook de limpieza**: `05_Data_Cleaning_Pipeline.ipynb` - Pipeline de limpieza si es necesario\n"
      ]
    },
    {
      "cell_type": "code",
      "execution_count": 12,
      "metadata": {},
      "outputs": [
        {
          "name": "stdout",
          "output_type": "stream",
          "text": [
            "🎯 RESUMEN EJECUTABLE DEL ANÁLISIS\n",
            "============================================================\n",
            "📊 DATASET BASIC_TABLE.CSV:\n",
            "   • Filas: 1,011\n",
            "   • Columnas: 4\n",
            "   • Fabricantes únicos: 101\n",
            "   • Modelos únicos: 981\n",
            "\n",
            "🔍 CALIDAD DE DATOS:\n",
            "   • Valores nulos: 0\n",
            "   • Filas duplicadas: 0\n",
            "   • Valores 'undefined' en Automaker: False\n",
            "\n",
            "🏆 TOP 3 FABRICANTES:\n",
            "   1. BMW: 50 modelos\n",
            "   2. Audi: 48 modelos\n",
            "   3. Toyota: 45 modelos\n",
            "\n",
            "✅ ESTADO: Datos listos para usar en el dashboard\n",
            "📋 PRÓXIMO PASO: Analizar Price_table.csv y Sales_table.csv\n"
          ]
        }
      ],
      "source": [
        "# Resumen final ejecutable\n",
        "print(\"🎯 RESUMEN EJECUTABLE DEL ANÁLISIS\")\n",
        "print(\"=\"*60)\n",
        "\n",
        "print(f\"📊 DATASET BASIC_TABLE.CSV:\")\n",
        "print(f\"   • Filas: {len(df_basic):,}\")\n",
        "print(f\"   • Columnas: {len(df_basic.columns)}\")\n",
        "print(f\"   • Fabricantes únicos: {len(df_basic['Automaker'].unique())}\")\n",
        "print(f\"   • Modelos únicos: {len(df_basic['Genmodel'].unique())}\")\n",
        "\n",
        "print(f\"\\n🔍 CALIDAD DE DATOS:\")\n",
        "print(f\"   • Valores nulos: {df_basic.isnull().sum().sum()}\")\n",
        "print(f\"   • Filas duplicadas: {df_basic.duplicated().sum()}\")\n",
        "print(f\"   • Valores 'undefined' en Automaker: {('undefined' in df_basic['Automaker'].values)}\")\n",
        "\n",
        "print(f\"\\n🏆 TOP 3 FABRICANTES:\")\n",
        "for i, (maker, count) in enumerate(automaker_counts.head(3).items(), 1):\n",
        "    print(f\"   {i}. {maker}: {count} modelos\")\n",
        "\n",
        "print(f\"\\n✅ ESTADO: Datos listos para usar en el dashboard\")\n",
        "print(f\"📋 PRÓXIMO PASO: Analizar Price_table.csv y Sales_table.csv\")\n"
      ]
    }
  ],
  "metadata": {
    "kernelspec": {
      "display_name": "car_analysis",
      "language": "python",
      "name": "python3"
    },
    "language_info": {
      "codemirror_mode": {
        "name": "ipython",
        "version": 3
      },
      "file_extension": ".py",
      "mimetype": "text/x-python",
      "name": "python",
      "nbconvert_exporter": "python",
      "pygments_lexer": "ipython3",
      "version": "3.10.18"
    }
  },
  "nbformat": 4,
  "nbformat_minor": 2
}
